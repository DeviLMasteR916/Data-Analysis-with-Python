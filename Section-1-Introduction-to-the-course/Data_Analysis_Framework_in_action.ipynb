{
 "cells": [
  {
   "cell_type": "markdown",
   "metadata": {},
   "source": [
    "### The Data Analysis Framework\n",
    "\n",
    "1. Look at the information in the data\n",
    "2. Decide on the analysis objective(s)\n",
    "3. What are the different questions that come to mind when looking at the data?\n",
    "4. Select the questions that are in line with the objective(s)\n",
    "5. Look for answers to these questions in the data\n",
    "6. Summarise the findings\n",
    "\n",
    "### Let's see how to use this in a data analysis setting with a simple example\n",
    "We would be using the gender-weight-height-bmi dataset downloaded from Kaggle and apply the above framework on it to generate some insights"
   ]
  },
  {
   "cell_type": "code",
   "execution_count": 1,
   "metadata": {},
   "outputs": [],
   "source": [
    "## loading required packages\n",
    "import numpy as np\n",
    "import pandas as pd\n",
    "import seaborn as sns"
   ]
  },
  {
   "cell_type": "code",
   "execution_count": 2,
   "metadata": {},
   "outputs": [
    {
     "name": "stdout",
     "output_type": "stream",
     "text": [
      "data shape: (500, 4)\n"
     ]
    },
    {
     "data": {
      "text/html": [
       "<div>\n",
       "<style scoped>\n",
       "    .dataframe tbody tr th:only-of-type {\n",
       "        vertical-align: middle;\n",
       "    }\n",
       "\n",
       "    .dataframe tbody tr th {\n",
       "        vertical-align: top;\n",
       "    }\n",
       "\n",
       "    .dataframe thead th {\n",
       "        text-align: right;\n",
       "    }\n",
       "</style>\n",
       "<table border=\"1\" class=\"dataframe\">\n",
       "  <thead>\n",
       "    <tr style=\"text-align: right;\">\n",
       "      <th></th>\n",
       "      <th>Gender</th>\n",
       "      <th>Height</th>\n",
       "      <th>Weight</th>\n",
       "      <th>Index</th>\n",
       "    </tr>\n",
       "  </thead>\n",
       "  <tbody>\n",
       "    <tr>\n",
       "      <th>0</th>\n",
       "      <td>Male</td>\n",
       "      <td>174</td>\n",
       "      <td>96</td>\n",
       "      <td>4</td>\n",
       "    </tr>\n",
       "    <tr>\n",
       "      <th>1</th>\n",
       "      <td>Male</td>\n",
       "      <td>189</td>\n",
       "      <td>87</td>\n",
       "      <td>2</td>\n",
       "    </tr>\n",
       "    <tr>\n",
       "      <th>2</th>\n",
       "      <td>Female</td>\n",
       "      <td>185</td>\n",
       "      <td>110</td>\n",
       "      <td>4</td>\n",
       "    </tr>\n",
       "    <tr>\n",
       "      <th>3</th>\n",
       "      <td>Female</td>\n",
       "      <td>195</td>\n",
       "      <td>104</td>\n",
       "      <td>3</td>\n",
       "    </tr>\n",
       "    <tr>\n",
       "      <th>4</th>\n",
       "      <td>Male</td>\n",
       "      <td>149</td>\n",
       "      <td>61</td>\n",
       "      <td>3</td>\n",
       "    </tr>\n",
       "  </tbody>\n",
       "</table>\n",
       "</div>"
      ],
      "text/plain": [
       "   Gender  Height  Weight  Index\n",
       "0    Male     174      96      4\n",
       "1    Male     189      87      2\n",
       "2  Female     185     110      4\n",
       "3  Female     195     104      3\n",
       "4    Male     149      61      3"
      ]
     },
     "execution_count": 2,
     "metadata": {},
     "output_type": "execute_result"
    }
   ],
   "source": [
    "## Loading the gender-weight-height dataset\n",
    "df = pd.read_csv('500_Person_Gender_Height_Weight_Index.csv')\n",
    "print('data shape:',df.shape)\n",
    "df.head()"
   ]
  },
  {
   "cell_type": "markdown",
   "metadata": {},
   "source": [
    "#### Step 1: Look at the information in the data\n",
    "\n",
    "Our data contains the gender, weight, height and body mass index (BMI) information of 500 distinct people. The fields - Height & Weight are numeric, while Gender & Index are categorical in nature. There are no missing values in the data.\n",
    "\n",
    "Below is the decsription of fields in the data:\n",
    "\n",
    "Gender : Male / Female\n",
    "\n",
    "Height : Number (cm)\n",
    "\n",
    "Weight : Number (Kg)\n",
    "\n",
    "Index :\n",
    "0 - Extremely Weak, \n",
    "1 - Weak, \n",
    "2 - Normal, \n",
    "3 - Overweight, \n",
    "4 - Obesity, \n",
    "5 - Extreme Obesity"
   ]
  },
  {
   "cell_type": "markdown",
   "metadata": {},
   "source": [
    "#### Step 2: Decide on the analysis objective(s)\n",
    "\n",
    "Let's try to look at the impact of gender on weight and height"
   ]
  },
  {
   "cell_type": "markdown",
   "metadata": {},
   "source": [
    "#### Step 3 & 4: \n",
    "\n",
    "We can combine step 3 & 4 in the framework and jot down some questions that we would try to answer further in the exercise\n",
    "\n",
    "Q1: Average height of male vs female? <br>\n",
    "Q2: Min height of male vs female? <br>\n",
    "Q3: Max height of male vs female?\n",
    "\n",
    "Q4: Average weight of male vs female? <br>\n",
    "Q5: Min weight of male vs female? <br>\n",
    "Q6: Max weight of male vs female? <br>"
   ]
  },
  {
   "cell_type": "markdown",
   "metadata": {},
   "source": [
    "#### Step 5: Try answering the questions using the data"
   ]
  },
  {
   "cell_type": "code",
   "execution_count": 3,
   "metadata": {},
   "outputs": [
    {
     "name": "stdout",
     "output_type": "stream",
     "text": [
      "### Height Metrics ###\n",
      "Avg_Height: Gender\n",
      "Female    170.2\n",
      "Male      169.6\n",
      "Name: Height, dtype: float64\n",
      "Min_Height: Gender\n",
      "Female    140\n",
      "Male      140\n",
      "Name: Height, dtype: int64\n",
      "Max_Height: Gender\n",
      "Female    199\n",
      "Male      199\n",
      "Name: Height, dtype: int64\n",
      "\n",
      "\n",
      "\n",
      "\n",
      "### Weight Metrics ###\n",
      "Avg_Weight: Gender\n",
      "Female    105.7\n",
      "Male      106.3\n",
      "Name: Weight, dtype: float64\n",
      "Min_Weight: Gender\n",
      "Female    50\n",
      "Male      50\n",
      "Name: Weight, dtype: int64\n",
      "Max_Weight: Gender\n",
      "Female    160\n",
      "Male      160\n",
      "Name: Weight, dtype: int64\n"
     ]
    }
   ],
   "source": [
    "## Average Height\n",
    "avg_height = df.groupby('Gender')['Height'].mean()\n",
    "\n",
    "## Minimum Height \n",
    "min_height = df.groupby('Gender')['Height'].min()\n",
    "\n",
    "## Maximum Height \n",
    "max_height = df.groupby('Gender')['Height'].max()\n",
    "\n",
    "## Average Weight\n",
    "avg_weight = df.groupby('Gender')['Weight'].mean()\n",
    "\n",
    "## Minimum Weight \n",
    "min_weight = df.groupby('Gender')['Weight'].min()\n",
    "\n",
    "## Maximum Weight \n",
    "max_weight = df.groupby('Gender')['Weight'].max()\n",
    "\n",
    "\n",
    "print('### Height Metrics ###')\n",
    "print('Avg_Height:', avg_height.round(1))\n",
    "print('Min_Height:', min_height)\n",
    "print('Max_Height:', max_height)\n",
    "\n",
    "print('\\n')\n",
    "print('\\n')\n",
    "\n",
    "print('### Weight Metrics ###')\n",
    "print('Avg_Weight:', avg_weight.round(1))\n",
    "print('Min_Weight:', min_weight)\n",
    "print('Max_Weight:', max_weight)"
   ]
  },
  {
   "cell_type": "markdown",
   "metadata": {},
   "source": [
    "#### Step 6: Summarising the findings\n",
    "\n",
    "Our analysis on our dataset shows no impact of gender on height or weight."
   ]
  }
 ],
 "metadata": {
  "kernelspec": {
   "display_name": "Python 3",
   "language": "python",
   "name": "python3"
  },
  "language_info": {
   "codemirror_mode": {
    "name": "ipython",
    "version": 3
   },
   "file_extension": ".py",
   "mimetype": "text/x-python",
   "name": "python",
   "nbconvert_exporter": "python",
   "pygments_lexer": "ipython3",
   "version": "3.8.5"
  }
 },
 "nbformat": 4,
 "nbformat_minor": 4
}
