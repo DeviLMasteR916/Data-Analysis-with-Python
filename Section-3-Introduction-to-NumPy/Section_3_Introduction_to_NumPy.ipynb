{
 "cells": [
  {
   "cell_type": "markdown",
   "metadata": {},
   "source": [
    "## Introduction \n",
    "\n",
    "It forms the foundation of the python scientifc computing stack and is used for a variety of purposes like:\n",
    "- Linear Algebra\n",
    "- Image Processing\n",
    "- Signal Processing etc.\n",
    "\n",
    "A lot of popular & widely used libraries like Pandas, Matplotlib, OpenCV, scikit-learn are based in NumPy.\n"
   ]
  },
  {
   "cell_type": "markdown",
   "metadata": {},
   "source": [
    "## NumPy Topics\n",
    "1. Basics - Defining an array, checking it's shape & dimensions, reshaping an array, np.zeros, np.ones, np.random numbers & integers, converting datatypes. <br>\n",
    "2. Subsetting an array using indexes and boolean conditions <br>\n",
    "3. Element wise maths on np arrays <br>\n",
    "4. Matrix operations in numpy <br>"
   ]
  },
  {
   "cell_type": "code",
   "execution_count": 1,
   "metadata": {},
   "outputs": [],
   "source": [
    "## Loading required modules\n",
    "\n",
    "import numpy as np"
   ]
  },
  {
   "cell_type": "markdown",
   "metadata": {},
   "source": [
    "### NumPy Basics"
   ]
  },
  {
   "cell_type": "code",
   "execution_count": 2,
   "metadata": {},
   "outputs": [],
   "source": [
    "## Defining an array\n",
    "\n",
    "# 1D array\n",
    "a1 = np.array([1,2,3])\n",
    "\n",
    "## 2D array\n",
    "a2 = np.array([[1,2],[3,4]])\n",
    "\n",
    "## 3D array\n",
    "a3 = np.array([[[1,2],[3,4]]])"
   ]
  },
  {
   "cell_type": "code",
   "execution_count": 3,
   "metadata": {},
   "outputs": [
    {
     "name": "stdout",
     "output_type": "stream",
     "text": [
      "1\n",
      "2\n",
      "3\n"
     ]
    }
   ],
   "source": [
    "## Checking the dimensions of defined arrays\n",
    "\n",
    "print(a1.ndim)\n",
    "print(a2.ndim)\n",
    "print(a3.ndim)"
   ]
  },
  {
   "cell_type": "code",
   "execution_count": 4,
   "metadata": {},
   "outputs": [
    {
     "name": "stdout",
     "output_type": "stream",
     "text": [
      "(3,)\n",
      "(2, 2)\n",
      "(1, 2, 2)\n"
     ]
    }
   ],
   "source": [
    "## Checking the shape of defined arrays\n",
    "\n",
    "print(a1.shape)\n",
    "print(a2.shape)\n",
    "print(a3.shape)"
   ]
  },
  {
   "cell_type": "code",
   "execution_count": 5,
   "metadata": {},
   "outputs": [
    {
     "data": {
      "text/plain": [
       "array([[1],\n",
       "       [2],\n",
       "       [3],\n",
       "       [4]])"
      ]
     },
     "execution_count": 5,
     "metadata": {},
     "output_type": "execute_result"
    }
   ],
   "source": [
    "## Reshaping an array\n",
    "\n",
    "a3.reshape(4,1)"
   ]
  },
  {
   "cell_type": "code",
   "execution_count": 6,
   "metadata": {},
   "outputs": [
    {
     "name": "stdout",
     "output_type": "stream",
     "text": [
      "[[0. 0.]\n",
      " [0. 0.]]\n",
      "\n",
      "\n",
      "[[0 0]\n",
      " [0 0]]\n"
     ]
    }
   ],
   "source": [
    "## Defining an array of all zeros\n",
    "\n",
    "print(np.zeros(a2.shape))\n",
    "print('\\n')\n",
    "print(np.zeros_like(a2))"
   ]
  },
  {
   "cell_type": "code",
   "execution_count": 7,
   "metadata": {},
   "outputs": [
    {
     "name": "stdout",
     "output_type": "stream",
     "text": [
      "[[1. 1.]\n",
      " [1. 1.]]\n",
      "\n",
      "\n",
      "[[1 1]\n",
      " [1 1]]\n"
     ]
    }
   ],
   "source": [
    "## Defining an array of all ones\n",
    "\n",
    "print(np.ones(a2.shape))\n",
    "print('\\n')\n",
    "print(np.ones_like(a2))"
   ]
  },
  {
   "cell_type": "code",
   "execution_count": 8,
   "metadata": {},
   "outputs": [
    {
     "name": "stdout",
     "output_type": "stream",
     "text": [
      "[[0.83830517 0.18474723]\n",
      " [0.97789634 0.80655445]]\n",
      "\n",
      "\n",
      "[[0.78337667 0.23786547]\n",
      " [0.8088359  0.67932701]]\n"
     ]
    }
   ],
   "source": [
    "## Defining an array of random numbers\n",
    "\n",
    "print(np.random.rand(2,2))\n",
    "print('\\n')\n",
    "print(np.random.random_sample(a2.shape))"
   ]
  },
  {
   "cell_type": "code",
   "execution_count": 9,
   "metadata": {},
   "outputs": [
    {
     "name": "stdout",
     "output_type": "stream",
     "text": [
      "[[1 3]\n",
      " [3 3]]\n"
     ]
    }
   ],
   "source": [
    "## Defining an array of random integers\n",
    "\n",
    "print(np.random.randint(4,size = (2,2)))"
   ]
  },
  {
   "cell_type": "code",
   "execution_count": 10,
   "metadata": {},
   "outputs": [
    {
     "name": "stdout",
     "output_type": "stream",
     "text": [
      "int64\n",
      "\n",
      "\n",
      "[[1. 2.]\n",
      " [3. 4.]]\n",
      "\n",
      "\n",
      "float32\n"
     ]
    }
   ],
   "source": [
    "## Converting datatypes\n",
    "\n",
    "print(a2.dtype)\n",
    "print('\\n')\n",
    "a2 = a2.astype('float32')\n",
    "print(a2)\n",
    "print('\\n')\n",
    "print(a2.dtype)"
   ]
  },
  {
   "cell_type": "markdown",
   "metadata": {},
   "source": [
    "### Stacking Arrays "
   ]
  },
  {
   "cell_type": "code",
   "execution_count": 11,
   "metadata": {},
   "outputs": [
    {
     "data": {
      "text/plain": [
       "array([[1, 2, 3],\n",
       "       [1, 2, 3]])"
      ]
     },
     "execution_count": 11,
     "metadata": {},
     "output_type": "execute_result"
    }
   ],
   "source": [
    "## Vertical stacking\n",
    "\n",
    "a1 = np.array([1,2,3])\n",
    "s = np.array([1,2,3])\n",
    "\n",
    "np.vstack((a1,s))"
   ]
  },
  {
   "cell_type": "code",
   "execution_count": 12,
   "metadata": {},
   "outputs": [
    {
     "data": {
      "text/plain": [
       "array([1, 2, 3, 1, 2, 3])"
      ]
     },
     "execution_count": 12,
     "metadata": {},
     "output_type": "execute_result"
    }
   ],
   "source": [
    "## Horizontal stacking\n",
    "\n",
    "a1 = np.array([1,2,3])  \n",
    "s = np.array([1,2,3])\n",
    "\n",
    "np.hstack((a1,s))"
   ]
  },
  {
   "cell_type": "markdown",
   "metadata": {},
   "source": [
    "### Subsetting an array"
   ]
  },
  {
   "cell_type": "code",
   "execution_count": 13,
   "metadata": {},
   "outputs": [
    {
     "name": "stdout",
     "output_type": "stream",
     "text": [
      "[1 2 3]\n",
      "2\n",
      "[2 3]\n"
     ]
    }
   ],
   "source": [
    "## Subsetting a 1D array\n",
    "print(a1)\n",
    "\n",
    "# Single element\n",
    "print(a1[1])\n",
    "\n",
    "# Multiple elements\n",
    "print(a1[[1,2]])"
   ]
  },
  {
   "cell_type": "code",
   "execution_count": 14,
   "metadata": {},
   "outputs": [
    {
     "name": "stdout",
     "output_type": "stream",
     "text": [
      "[[[1 2]\n",
      "  [3 4]]]\n",
      "\n",
      "\n",
      "2\n",
      "\n",
      "\n",
      "[2 4]\n"
     ]
    }
   ],
   "source": [
    "## Subsetting a 3D array\n",
    "\n",
    "print(a3)\n",
    "print('\\n')\n",
    "\n",
    "# Single element\n",
    "print(a3[0,0,1])\n",
    "\n",
    "print('\\n')\n",
    "\n",
    "# Multiple elements\n",
    "print(a3[0,[0,1],[1,1]])"
   ]
  },
  {
   "cell_type": "code",
   "execution_count": 15,
   "metadata": {},
   "outputs": [
    {
     "name": "stdout",
     "output_type": "stream",
     "text": [
      "[[1. 2.]\n",
      " [3. 4.]]\n",
      "\n",
      "\n",
      "[[False False]\n",
      " [ True  True]]\n",
      "\n",
      "\n",
      "[3. 4.]\n",
      "\n",
      "\n",
      "[2.]\n"
     ]
    }
   ],
   "source": [
    "## Using boolean conditions\n",
    "print(a2)\n",
    "print('\\n')\n",
    "\n",
    "print(a2>2)\n",
    "print('\\n')\n",
    "\n",
    "print(a2[a2 > 2])\n",
    "\n",
    "print('\\n')\n",
    "print(a2[a2 == 2])"
   ]
  },
  {
   "cell_type": "code",
   "execution_count": 16,
   "metadata": {},
   "outputs": [
    {
     "name": "stdout",
     "output_type": "stream",
     "text": [
      "[1 2 3]\n",
      "\n",
      "\n",
      "[  1 100   3]\n"
     ]
    }
   ],
   "source": [
    "## Replacing a value in an array\n",
    "\n",
    "a1 = np.array([1,2,3])\n",
    "print(a1)\n",
    "\n",
    "a1[1] = 100\n",
    "\n",
    "print('\\n')\n",
    "print(a1)"
   ]
  },
  {
   "cell_type": "markdown",
   "metadata": {},
   "source": [
    "### Element-wise math operations"
   ]
  },
  {
   "cell_type": "code",
   "execution_count": 17,
   "metadata": {},
   "outputs": [
    {
     "name": "stdout",
     "output_type": "stream",
     "text": [
      "[1 2 3]\n",
      "\n",
      "\n",
      "[2 4 6]\n",
      "\n",
      "\n",
      "[11 12 13]\n",
      "\n",
      "\n",
      "[-9 -8 -7]\n",
      "\n",
      "\n",
      "[0.1 0.2 0.3]\n"
     ]
    }
   ],
   "source": [
    "a1 = np.array([1,2,3])\n",
    "print(a1)\n",
    "\n",
    "print('\\n')\n",
    "print(a1*2)\n",
    "\n",
    "print('\\n')\n",
    "print(a1 + 10)\n",
    "\n",
    "print('\\n')\n",
    "print(a1 - 10)\n",
    "\n",
    "print('\\n')\n",
    "print(a1/10)"
   ]
  },
  {
   "cell_type": "code",
   "execution_count": 18,
   "metadata": {},
   "outputs": [
    {
     "name": "stdout",
     "output_type": "stream",
     "text": [
      "[1 2 3]\n",
      "\n",
      "\n",
      "[2 4 6]\n",
      "\n",
      "\n",
      "[1 4 9]\n"
     ]
    }
   ],
   "source": [
    "a1 = np.array([1,2,3])\n",
    "print(a1)\n",
    "\n",
    "print('\\n')\n",
    "print(a1 + a1)\n",
    "\n",
    "print('\\n')\n",
    "print(a1 * a1)"
   ]
  },
  {
   "cell_type": "code",
   "execution_count": 19,
   "metadata": {},
   "outputs": [
    {
     "name": "stdout",
     "output_type": "stream",
     "text": [
      "[[1 2]\n",
      " [3 4]]\n",
      "\n",
      "\n",
      "[[2 4]\n",
      " [6 8]]\n",
      "\n",
      "\n",
      "[[ 1  4]\n",
      " [ 9 16]]\n"
     ]
    }
   ],
   "source": [
    "a2 = np.array([[1,2],[3,4]])\n",
    "print(a2)\n",
    "\n",
    "print('\\n')\n",
    "print(a2 + a2)\n",
    "\n",
    "print('\\n')\n",
    "print(a2 * a2)"
   ]
  },
  {
   "cell_type": "markdown",
   "metadata": {},
   "source": [
    "### Matrix Operations"
   ]
  },
  {
   "cell_type": "code",
   "execution_count": 20,
   "metadata": {},
   "outputs": [
    {
     "name": "stdout",
     "output_type": "stream",
     "text": [
      "[[7. 7.]\n",
      " [7. 7.]\n",
      " [7. 7.]]\n",
      "\n",
      "\n",
      "[[7. 7.]\n",
      " [7. 7.]\n",
      " [7. 7.]]\n",
      "\n",
      "\n",
      "[[1. 1. 1.]\n",
      " [1. 1. 1.]]\n",
      "\n",
      "\n",
      "[[-1.5   0.5 ]\n",
      " [ 1.25 -0.25]]\n",
      "[[ 1.00000000e+00  8.88178420e-16]\n",
      " [-2.22044605e-16  1.00000000e+00]]\n",
      "\n",
      "\n",
      "[[1. 0.]\n",
      " [0. 1.]]\n",
      "\n",
      "\n",
      "[2. 2. 2.]\n",
      "\n",
      "\n",
      "[3. 3.]\n"
     ]
    }
   ],
   "source": [
    "m1 = np.ones((3,2))\n",
    "m2 = np.array([[3,3],[4,4]])\n",
    "\n",
    "## Matrix Multiplication\n",
    "print(np.matmul(m1,m2))\n",
    "print('\\n')\n",
    "print(np.dot(m1,m2))\n",
    "\n",
    "## Matrix Transpose\n",
    "print('\\n')\n",
    "print(m1.T)\n",
    "\n",
    "## Inverse\n",
    "print('\\n')\n",
    "a = [[1,2],[5,6]] ## example taken from geekforgeeks\n",
    "print(np.linalg.inv(a))\n",
    "print(np.dot(np.linalg.inv(a), a)) ## checking if inverse is correct or not\n",
    "\n",
    "## Identity matrix\n",
    "print('\\n')\n",
    "print(np.identity(2))\n",
    "\n",
    "## row-wise summation\n",
    "print('\\n')\n",
    "print(np.sum(m1, axis=1))\n",
    "\n",
    "## column-wise summation\n",
    "print('\\n')\n",
    "print(np.sum(m1, axis=0))\n",
    "\n",
    "\n",
    "## There are other operations like max, min, mean etc. as well that can be performed on matrices"
   ]
  }
 ],
 "metadata": {
  "kernelspec": {
   "display_name": "Python 3",
   "language": "python",
   "name": "python3"
  },
  "language_info": {
   "codemirror_mode": {
    "name": "ipython",
    "version": 3
   },
   "file_extension": ".py",
   "mimetype": "text/x-python",
   "name": "python",
   "nbconvert_exporter": "python",
   "pygments_lexer": "ipython3",
   "version": "3.8.5"
  }
 },
 "nbformat": 4,
 "nbformat_minor": 4
}
